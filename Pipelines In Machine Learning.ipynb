{
 "cells": [
  {
   "cell_type": "code",
   "execution_count": 1,
   "metadata": {},
   "outputs": [],
   "source": [
    "from sklearn.pipeline import Pipeline\n",
    "##feature Scaling\n",
    "from sklearn.preprocessing import StandardScaler\n",
    "from sklearn.linear_model import LogisticRegression"
   ]
  },
  {
   "cell_type": "code",
   "execution_count": 2,
   "metadata": {},
   "outputs": [],
   "source": [
    "steps=[(\"standard_scaler\",StandardScaler()),\n",
    "      (\"classifier\",LogisticRegression())]"
   ]
  },
  {
   "cell_type": "code",
   "execution_count": 3,
   "metadata": {},
   "outputs": [
    {
     "data": {
      "text/plain": [
       "[('standard_scaler', StandardScaler()), ('classifier', LogisticRegression())]"
      ]
     },
     "execution_count": 3,
     "metadata": {},
     "output_type": "execute_result"
    }
   ],
   "source": [
    "steps"
   ]
  },
  {
   "cell_type": "code",
   "execution_count": 4,
   "metadata": {},
   "outputs": [],
   "source": [
    "pipe=Pipeline(steps)"
   ]
  },
  {
   "cell_type": "code",
   "execution_count": 5,
   "metadata": {},
   "outputs": [],
   "source": [
    "##visualize Pipeline\n",
    "from sklearn import set_config"
   ]
  },
  {
   "cell_type": "code",
   "execution_count": 6,
   "metadata": {},
   "outputs": [],
   "source": [
    "set_config(display=\"diagram\")"
   ]
  },
  {
   "cell_type": "code",
   "execution_count": 7,
   "metadata": {},
   "outputs": [
    {
     "data": {
      "text/html": [
       "<style>#sk-fa746799-bdcc-4037-b4f5-567a6d951033 {color: black;background-color: white;}#sk-fa746799-bdcc-4037-b4f5-567a6d951033 pre{padding: 0;}#sk-fa746799-bdcc-4037-b4f5-567a6d951033 div.sk-toggleable {background-color: white;}#sk-fa746799-bdcc-4037-b4f5-567a6d951033 label.sk-toggleable__label {cursor: pointer;display: block;width: 100%;margin-bottom: 0;padding: 0.2em 0.3em;box-sizing: border-box;text-align: center;}#sk-fa746799-bdcc-4037-b4f5-567a6d951033 div.sk-toggleable__content {max-height: 0;max-width: 0;overflow: hidden;text-align: left;background-color: #f0f8ff;}#sk-fa746799-bdcc-4037-b4f5-567a6d951033 div.sk-toggleable__content pre {margin: 0.2em;color: black;border-radius: 0.25em;background-color: #f0f8ff;}#sk-fa746799-bdcc-4037-b4f5-567a6d951033 input.sk-toggleable__control:checked~div.sk-toggleable__content {max-height: 200px;max-width: 100%;overflow: auto;}#sk-fa746799-bdcc-4037-b4f5-567a6d951033 div.sk-estimator input.sk-toggleable__control:checked~label.sk-toggleable__label {background-color: #d4ebff;}#sk-fa746799-bdcc-4037-b4f5-567a6d951033 div.sk-label input.sk-toggleable__control:checked~label.sk-toggleable__label {background-color: #d4ebff;}#sk-fa746799-bdcc-4037-b4f5-567a6d951033 input.sk-hidden--visually {border: 0;clip: rect(1px 1px 1px 1px);clip: rect(1px, 1px, 1px, 1px);height: 1px;margin: -1px;overflow: hidden;padding: 0;position: absolute;width: 1px;}#sk-fa746799-bdcc-4037-b4f5-567a6d951033 div.sk-estimator {font-family: monospace;background-color: #f0f8ff;margin: 0.25em 0.25em;border: 1px dotted black;border-radius: 0.25em;box-sizing: border-box;}#sk-fa746799-bdcc-4037-b4f5-567a6d951033 div.sk-estimator:hover {background-color: #d4ebff;}#sk-fa746799-bdcc-4037-b4f5-567a6d951033 div.sk-parallel-item::after {content: \"\";width: 100%;border-bottom: 1px solid gray;flex-grow: 1;}#sk-fa746799-bdcc-4037-b4f5-567a6d951033 div.sk-label:hover label.sk-toggleable__label {background-color: #d4ebff;}#sk-fa746799-bdcc-4037-b4f5-567a6d951033 div.sk-serial::before {content: \"\";position: absolute;border-left: 1px solid gray;box-sizing: border-box;top: 2em;bottom: 0;left: 50%;}#sk-fa746799-bdcc-4037-b4f5-567a6d951033 div.sk-serial {display: flex;flex-direction: column;align-items: center;background-color: white;}#sk-fa746799-bdcc-4037-b4f5-567a6d951033 div.sk-item {z-index: 1;}#sk-fa746799-bdcc-4037-b4f5-567a6d951033 div.sk-parallel {display: flex;align-items: stretch;justify-content: center;background-color: white;}#sk-fa746799-bdcc-4037-b4f5-567a6d951033 div.sk-parallel-item {display: flex;flex-direction: column;position: relative;background-color: white;}#sk-fa746799-bdcc-4037-b4f5-567a6d951033 div.sk-parallel-item:first-child::after {align-self: flex-end;width: 50%;}#sk-fa746799-bdcc-4037-b4f5-567a6d951033 div.sk-parallel-item:last-child::after {align-self: flex-start;width: 50%;}#sk-fa746799-bdcc-4037-b4f5-567a6d951033 div.sk-parallel-item:only-child::after {width: 0;}#sk-fa746799-bdcc-4037-b4f5-567a6d951033 div.sk-dashed-wrapped {border: 1px dashed gray;margin: 0.2em;box-sizing: border-box;padding-bottom: 0.1em;background-color: white;position: relative;}#sk-fa746799-bdcc-4037-b4f5-567a6d951033 div.sk-label label {font-family: monospace;font-weight: bold;background-color: white;display: inline-block;line-height: 1.2em;}#sk-fa746799-bdcc-4037-b4f5-567a6d951033 div.sk-label-container {position: relative;z-index: 2;text-align: center;}#sk-fa746799-bdcc-4037-b4f5-567a6d951033 div.sk-container {display: inline-block;position: relative;}</style><div id=\"sk-fa746799-bdcc-4037-b4f5-567a6d951033\" class\"sk-top-container\"><div class=\"sk-container\"><div class=\"sk-item sk-dashed-wrapped\"><div class=\"sk-label-container\"><div class=\"sk-label sk-toggleable\"><input class=\"sk-toggleable__control sk-hidden--visually\" id=\"61f97c7a-2cdc-47fe-8863-c00387762d02\" type=\"checkbox\" ><label class=\"sk-toggleable__label\" for=\"61f97c7a-2cdc-47fe-8863-c00387762d02\">Pipeline</label><div class=\"sk-toggleable__content\"><pre>Pipeline(steps=[('standard_scaler', StandardScaler()),\n",
       "                ('classifier', LogisticRegression())])</pre></div></div></div><div class=\"sk-serial\"><div class=\"sk-item\"><div class=\"sk-estimator sk-toggleable\"><input class=\"sk-toggleable__control sk-hidden--visually\" id=\"8c7aeda0-c915-496a-8b76-e6c2b1ec37e6\" type=\"checkbox\" ><label class=\"sk-toggleable__label\" for=\"8c7aeda0-c915-496a-8b76-e6c2b1ec37e6\">StandardScaler</label><div class=\"sk-toggleable__content\"><pre>StandardScaler()</pre></div></div></div><div class=\"sk-item\"><div class=\"sk-estimator sk-toggleable\"><input class=\"sk-toggleable__control sk-hidden--visually\" id=\"d3f0e5be-4506-492f-ba01-dc0b2ee93989\" type=\"checkbox\" ><label class=\"sk-toggleable__label\" for=\"d3f0e5be-4506-492f-ba01-dc0b2ee93989\">LogisticRegression</label><div class=\"sk-toggleable__content\"><pre>LogisticRegression()</pre></div></div></div></div></div></div></div>"
      ],
      "text/plain": [
       "Pipeline(steps=[('standard_scaler', StandardScaler()),\n",
       "                ('classifier', LogisticRegression())])"
      ]
     },
     "execution_count": 7,
     "metadata": {},
     "output_type": "execute_result"
    }
   ],
   "source": [
    "pipe"
   ]
  },
  {
   "cell_type": "code",
   "execution_count": 8,
   "metadata": {},
   "outputs": [],
   "source": [
    "##creating a dataset\n",
    "from sklearn.datasets import make_classification\n",
    "X,y=make_classification(n_samples=1000)"
   ]
  },
  {
   "cell_type": "code",
   "execution_count": 9,
   "metadata": {},
   "outputs": [
    {
     "data": {
      "text/plain": [
       "(1000, 20)"
      ]
     },
     "execution_count": 9,
     "metadata": {},
     "output_type": "execute_result"
    }
   ],
   "source": [
    "X.shape"
   ]
  },
  {
   "cell_type": "code",
   "execution_count": 10,
   "metadata": {},
   "outputs": [],
   "source": [
    "from sklearn.model_selection import train_test_split\n",
    "X_train, X_test, y_train, y_test = train_test_split(\n",
    "    X, y, test_size=0.33, random_state=42)"
   ]
  },
  {
   "cell_type": "code",
   "execution_count": 11,
   "metadata": {},
   "outputs": [
    {
     "data": {
      "text/plain": [
       "array([[ 8.68911275e-01, -3.57570985e-01,  1.60528749e+00, ...,\n",
       "         3.28960290e-01,  2.08848299e+00, -2.90728393e-01],\n",
       "       [ 4.55324613e-01, -8.91800320e-01, -4.12137104e-01, ...,\n",
       "         1.49172378e-01,  9.27049817e-01,  1.16308015e+00],\n",
       "       [-6.60423146e-01,  4.20356185e-01, -1.62061283e+00, ...,\n",
       "         2.80608114e+00,  9.43058781e-01,  1.84825919e+00],\n",
       "       ...,\n",
       "       [-2.44834115e+00,  1.34484587e+00,  2.23872835e-01, ...,\n",
       "        -7.27097574e-02,  3.39897196e-01,  7.68896263e-01],\n",
       "       [ 2.36520014e+00, -4.36261102e-01,  1.58251179e-01, ...,\n",
       "         2.77679268e-01, -4.81231919e-02, -1.46702072e+00],\n",
       "       [ 7.76733660e-01,  1.53638798e-03, -1.66812299e+00, ...,\n",
       "         8.91857990e-01,  1.62211040e-01,  5.46012435e-01]])"
      ]
     },
     "execution_count": 11,
     "metadata": {},
     "output_type": "execute_result"
    }
   ],
   "source": [
    "X_train"
   ]
  },
  {
   "cell_type": "code",
   "execution_count": 12,
   "metadata": {},
   "outputs": [
    {
     "data": {
      "text/html": [
       "<style>#sk-426dcd9a-4180-4d11-b07a-782407f0d352 {color: black;background-color: white;}#sk-426dcd9a-4180-4d11-b07a-782407f0d352 pre{padding: 0;}#sk-426dcd9a-4180-4d11-b07a-782407f0d352 div.sk-toggleable {background-color: white;}#sk-426dcd9a-4180-4d11-b07a-782407f0d352 label.sk-toggleable__label {cursor: pointer;display: block;width: 100%;margin-bottom: 0;padding: 0.2em 0.3em;box-sizing: border-box;text-align: center;}#sk-426dcd9a-4180-4d11-b07a-782407f0d352 div.sk-toggleable__content {max-height: 0;max-width: 0;overflow: hidden;text-align: left;background-color: #f0f8ff;}#sk-426dcd9a-4180-4d11-b07a-782407f0d352 div.sk-toggleable__content pre {margin: 0.2em;color: black;border-radius: 0.25em;background-color: #f0f8ff;}#sk-426dcd9a-4180-4d11-b07a-782407f0d352 input.sk-toggleable__control:checked~div.sk-toggleable__content {max-height: 200px;max-width: 100%;overflow: auto;}#sk-426dcd9a-4180-4d11-b07a-782407f0d352 div.sk-estimator input.sk-toggleable__control:checked~label.sk-toggleable__label {background-color: #d4ebff;}#sk-426dcd9a-4180-4d11-b07a-782407f0d352 div.sk-label input.sk-toggleable__control:checked~label.sk-toggleable__label {background-color: #d4ebff;}#sk-426dcd9a-4180-4d11-b07a-782407f0d352 input.sk-hidden--visually {border: 0;clip: rect(1px 1px 1px 1px);clip: rect(1px, 1px, 1px, 1px);height: 1px;margin: -1px;overflow: hidden;padding: 0;position: absolute;width: 1px;}#sk-426dcd9a-4180-4d11-b07a-782407f0d352 div.sk-estimator {font-family: monospace;background-color: #f0f8ff;margin: 0.25em 0.25em;border: 1px dotted black;border-radius: 0.25em;box-sizing: border-box;}#sk-426dcd9a-4180-4d11-b07a-782407f0d352 div.sk-estimator:hover {background-color: #d4ebff;}#sk-426dcd9a-4180-4d11-b07a-782407f0d352 div.sk-parallel-item::after {content: \"\";width: 100%;border-bottom: 1px solid gray;flex-grow: 1;}#sk-426dcd9a-4180-4d11-b07a-782407f0d352 div.sk-label:hover label.sk-toggleable__label {background-color: #d4ebff;}#sk-426dcd9a-4180-4d11-b07a-782407f0d352 div.sk-serial::before {content: \"\";position: absolute;border-left: 1px solid gray;box-sizing: border-box;top: 2em;bottom: 0;left: 50%;}#sk-426dcd9a-4180-4d11-b07a-782407f0d352 div.sk-serial {display: flex;flex-direction: column;align-items: center;background-color: white;}#sk-426dcd9a-4180-4d11-b07a-782407f0d352 div.sk-item {z-index: 1;}#sk-426dcd9a-4180-4d11-b07a-782407f0d352 div.sk-parallel {display: flex;align-items: stretch;justify-content: center;background-color: white;}#sk-426dcd9a-4180-4d11-b07a-782407f0d352 div.sk-parallel-item {display: flex;flex-direction: column;position: relative;background-color: white;}#sk-426dcd9a-4180-4d11-b07a-782407f0d352 div.sk-parallel-item:first-child::after {align-self: flex-end;width: 50%;}#sk-426dcd9a-4180-4d11-b07a-782407f0d352 div.sk-parallel-item:last-child::after {align-self: flex-start;width: 50%;}#sk-426dcd9a-4180-4d11-b07a-782407f0d352 div.sk-parallel-item:only-child::after {width: 0;}#sk-426dcd9a-4180-4d11-b07a-782407f0d352 div.sk-dashed-wrapped {border: 1px dashed gray;margin: 0.2em;box-sizing: border-box;padding-bottom: 0.1em;background-color: white;position: relative;}#sk-426dcd9a-4180-4d11-b07a-782407f0d352 div.sk-label label {font-family: monospace;font-weight: bold;background-color: white;display: inline-block;line-height: 1.2em;}#sk-426dcd9a-4180-4d11-b07a-782407f0d352 div.sk-label-container {position: relative;z-index: 2;text-align: center;}#sk-426dcd9a-4180-4d11-b07a-782407f0d352 div.sk-container {display: inline-block;position: relative;}</style><div id=\"sk-426dcd9a-4180-4d11-b07a-782407f0d352\" class\"sk-top-container\"><div class=\"sk-container\"><div class=\"sk-item sk-dashed-wrapped\"><div class=\"sk-label-container\"><div class=\"sk-label sk-toggleable\"><input class=\"sk-toggleable__control sk-hidden--visually\" id=\"d1b9ec55-d4cd-47c2-b7ba-00ccf13e2f7a\" type=\"checkbox\" ><label class=\"sk-toggleable__label\" for=\"d1b9ec55-d4cd-47c2-b7ba-00ccf13e2f7a\">Pipeline</label><div class=\"sk-toggleable__content\"><pre>Pipeline(steps=[('standard_scaler', StandardScaler()),\n",
       "                ('classifier', LogisticRegression())])</pre></div></div></div><div class=\"sk-serial\"><div class=\"sk-item\"><div class=\"sk-estimator sk-toggleable\"><input class=\"sk-toggleable__control sk-hidden--visually\" id=\"0b6eb1c2-7672-40ac-84c9-7abbea13a045\" type=\"checkbox\" ><label class=\"sk-toggleable__label\" for=\"0b6eb1c2-7672-40ac-84c9-7abbea13a045\">StandardScaler</label><div class=\"sk-toggleable__content\"><pre>StandardScaler()</pre></div></div></div><div class=\"sk-item\"><div class=\"sk-estimator sk-toggleable\"><input class=\"sk-toggleable__control sk-hidden--visually\" id=\"b8ac4b48-538f-4090-be38-7b038f8a88d2\" type=\"checkbox\" ><label class=\"sk-toggleable__label\" for=\"b8ac4b48-538f-4090-be38-7b038f8a88d2\">LogisticRegression</label><div class=\"sk-toggleable__content\"><pre>LogisticRegression()</pre></div></div></div></div></div></div></div>"
      ],
      "text/plain": [
       "Pipeline(steps=[('standard_scaler', StandardScaler()),\n",
       "                ('classifier', LogisticRegression())])"
      ]
     },
     "execution_count": 12,
     "metadata": {},
     "output_type": "execute_result"
    }
   ],
   "source": [
    "pipe.fit(X_train,y_train)"
   ]
  },
  {
   "cell_type": "code",
   "execution_count": 13,
   "metadata": {},
   "outputs": [],
   "source": [
    "y_pred=pipe.predict(X_test)"
   ]
  },
  {
   "cell_type": "code",
   "execution_count": 14,
   "metadata": {},
   "outputs": [
    {
     "data": {
      "text/plain": [
       "array([0, 0, 1, 0, 1, 1, 1, 1, 1, 1, 1, 0, 1, 1, 0, 0, 0, 0, 1, 1, 0, 1,\n",
       "       1, 0, 1, 1, 1, 1, 1, 1, 0, 0, 0, 1, 1, 0, 1, 1, 0, 1, 0, 0, 0, 0,\n",
       "       0, 0, 1, 1, 0, 0, 0, 0, 0, 1, 0, 1, 1, 1, 0, 1, 0, 0, 0, 0, 0, 1,\n",
       "       0, 1, 0, 0, 0, 0, 1, 0, 0, 1, 0, 1, 0, 0, 0, 1, 0, 0, 0, 0, 0, 1,\n",
       "       1, 0, 1, 0, 0, 1, 0, 1, 1, 0, 1, 0, 0, 1, 0, 0, 0, 1, 1, 0, 0, 0,\n",
       "       0, 0, 1, 1, 1, 1, 1, 0, 0, 0, 0, 0, 0, 0, 1, 1, 1, 1, 0, 1, 0, 0,\n",
       "       0, 1, 0, 0, 1, 1, 1, 1, 0, 1, 1, 1, 0, 0, 0, 0, 0, 1, 1, 1, 1, 0,\n",
       "       0, 1, 1, 0, 0, 0, 1, 1, 0, 0, 0, 1, 1, 0, 0, 0, 0, 1, 0, 0, 0, 1,\n",
       "       0, 0, 1, 0, 0, 0, 1, 1, 1, 1, 0, 1, 1, 0, 1, 1, 0, 0, 0, 1, 0, 1,\n",
       "       0, 1, 0, 1, 0, 0, 1, 0, 1, 0, 0, 1, 0, 0, 0, 0, 1, 0, 0, 0, 1, 1,\n",
       "       0, 0, 0, 0, 1, 1, 1, 1, 1, 0, 0, 0, 0, 1, 1, 1, 1, 0, 1, 0, 0, 1,\n",
       "       0, 1, 0, 0, 0, 1, 1, 1, 1, 0, 0, 0, 1, 0, 1, 0, 0, 1, 0, 0, 1, 1,\n",
       "       1, 1, 1, 0, 1, 1, 0, 1, 1, 1, 0, 0, 1, 1, 1, 1, 0, 0, 1, 1, 1, 0,\n",
       "       0, 0, 1, 1, 0, 1, 1, 1, 1, 0, 1, 0, 0, 0, 0, 0, 1, 1, 0, 0, 0, 1,\n",
       "       0, 0, 0, 1, 0, 0, 1, 1, 1, 0, 1, 1, 0, 1, 1, 1, 0, 0, 0, 0, 0, 0])"
      ]
     },
     "execution_count": 14,
     "metadata": {},
     "output_type": "execute_result"
    }
   ],
   "source": [
    "y_pred"
   ]
  },
  {
   "cell_type": "markdown",
   "metadata": {},
   "source": [
    "\n",
    "Displaying a pipeline with standard scaler, dimesnionality reduction and then estimator"
   ]
  },
  {
   "cell_type": "code",
   "execution_count": 15,
   "metadata": {},
   "outputs": [],
   "source": [
    "from sklearn.decomposition import PCA\n",
    "from sklearn.svm import SVC"
   ]
  },
  {
   "cell_type": "code",
   "execution_count": 16,
   "metadata": {},
   "outputs": [],
   "source": [
    "steps=[(\"scaling\",StandardScaler()),\n",
    "      (\"PCA\",PCA(n_components=3)),\n",
    "      (\"SVC\",SVC())]"
   ]
  },
  {
   "cell_type": "code",
   "execution_count": 17,
   "metadata": {},
   "outputs": [],
   "source": [
    "pipe2=Pipeline(steps)"
   ]
  },
  {
   "cell_type": "code",
   "execution_count": 18,
   "metadata": {},
   "outputs": [
    {
     "data": {
      "text/html": [
       "<style>#sk-4055316c-602c-484c-953f-f600cde08dd7 {color: black;background-color: white;}#sk-4055316c-602c-484c-953f-f600cde08dd7 pre{padding: 0;}#sk-4055316c-602c-484c-953f-f600cde08dd7 div.sk-toggleable {background-color: white;}#sk-4055316c-602c-484c-953f-f600cde08dd7 label.sk-toggleable__label {cursor: pointer;display: block;width: 100%;margin-bottom: 0;padding: 0.2em 0.3em;box-sizing: border-box;text-align: center;}#sk-4055316c-602c-484c-953f-f600cde08dd7 div.sk-toggleable__content {max-height: 0;max-width: 0;overflow: hidden;text-align: left;background-color: #f0f8ff;}#sk-4055316c-602c-484c-953f-f600cde08dd7 div.sk-toggleable__content pre {margin: 0.2em;color: black;border-radius: 0.25em;background-color: #f0f8ff;}#sk-4055316c-602c-484c-953f-f600cde08dd7 input.sk-toggleable__control:checked~div.sk-toggleable__content {max-height: 200px;max-width: 100%;overflow: auto;}#sk-4055316c-602c-484c-953f-f600cde08dd7 div.sk-estimator input.sk-toggleable__control:checked~label.sk-toggleable__label {background-color: #d4ebff;}#sk-4055316c-602c-484c-953f-f600cde08dd7 div.sk-label input.sk-toggleable__control:checked~label.sk-toggleable__label {background-color: #d4ebff;}#sk-4055316c-602c-484c-953f-f600cde08dd7 input.sk-hidden--visually {border: 0;clip: rect(1px 1px 1px 1px);clip: rect(1px, 1px, 1px, 1px);height: 1px;margin: -1px;overflow: hidden;padding: 0;position: absolute;width: 1px;}#sk-4055316c-602c-484c-953f-f600cde08dd7 div.sk-estimator {font-family: monospace;background-color: #f0f8ff;margin: 0.25em 0.25em;border: 1px dotted black;border-radius: 0.25em;box-sizing: border-box;}#sk-4055316c-602c-484c-953f-f600cde08dd7 div.sk-estimator:hover {background-color: #d4ebff;}#sk-4055316c-602c-484c-953f-f600cde08dd7 div.sk-parallel-item::after {content: \"\";width: 100%;border-bottom: 1px solid gray;flex-grow: 1;}#sk-4055316c-602c-484c-953f-f600cde08dd7 div.sk-label:hover label.sk-toggleable__label {background-color: #d4ebff;}#sk-4055316c-602c-484c-953f-f600cde08dd7 div.sk-serial::before {content: \"\";position: absolute;border-left: 1px solid gray;box-sizing: border-box;top: 2em;bottom: 0;left: 50%;}#sk-4055316c-602c-484c-953f-f600cde08dd7 div.sk-serial {display: flex;flex-direction: column;align-items: center;background-color: white;}#sk-4055316c-602c-484c-953f-f600cde08dd7 div.sk-item {z-index: 1;}#sk-4055316c-602c-484c-953f-f600cde08dd7 div.sk-parallel {display: flex;align-items: stretch;justify-content: center;background-color: white;}#sk-4055316c-602c-484c-953f-f600cde08dd7 div.sk-parallel-item {display: flex;flex-direction: column;position: relative;background-color: white;}#sk-4055316c-602c-484c-953f-f600cde08dd7 div.sk-parallel-item:first-child::after {align-self: flex-end;width: 50%;}#sk-4055316c-602c-484c-953f-f600cde08dd7 div.sk-parallel-item:last-child::after {align-self: flex-start;width: 50%;}#sk-4055316c-602c-484c-953f-f600cde08dd7 div.sk-parallel-item:only-child::after {width: 0;}#sk-4055316c-602c-484c-953f-f600cde08dd7 div.sk-dashed-wrapped {border: 1px dashed gray;margin: 0.2em;box-sizing: border-box;padding-bottom: 0.1em;background-color: white;position: relative;}#sk-4055316c-602c-484c-953f-f600cde08dd7 div.sk-label label {font-family: monospace;font-weight: bold;background-color: white;display: inline-block;line-height: 1.2em;}#sk-4055316c-602c-484c-953f-f600cde08dd7 div.sk-label-container {position: relative;z-index: 2;text-align: center;}#sk-4055316c-602c-484c-953f-f600cde08dd7 div.sk-container {display: inline-block;position: relative;}</style><div id=\"sk-4055316c-602c-484c-953f-f600cde08dd7\" class\"sk-top-container\"><div class=\"sk-container\"><div class=\"sk-item sk-dashed-wrapped\"><div class=\"sk-label-container\"><div class=\"sk-label sk-toggleable\"><input class=\"sk-toggleable__control sk-hidden--visually\" id=\"760b695a-086d-43f9-85b7-8c8c5fa00fb0\" type=\"checkbox\" ><label class=\"sk-toggleable__label\" for=\"760b695a-086d-43f9-85b7-8c8c5fa00fb0\">Pipeline</label><div class=\"sk-toggleable__content\"><pre>Pipeline(steps=[('scaling', StandardScaler()), ('PCA', PCA(n_components=3)),\n",
       "                ('SVC', SVC())])</pre></div></div></div><div class=\"sk-serial\"><div class=\"sk-item\"><div class=\"sk-estimator sk-toggleable\"><input class=\"sk-toggleable__control sk-hidden--visually\" id=\"98b746bc-82de-4620-aa7c-c80473700584\" type=\"checkbox\" ><label class=\"sk-toggleable__label\" for=\"98b746bc-82de-4620-aa7c-c80473700584\">StandardScaler</label><div class=\"sk-toggleable__content\"><pre>StandardScaler()</pre></div></div></div><div class=\"sk-item\"><div class=\"sk-estimator sk-toggleable\"><input class=\"sk-toggleable__control sk-hidden--visually\" id=\"f23817c3-169f-4d88-bb4f-50f60d5e1a5c\" type=\"checkbox\" ><label class=\"sk-toggleable__label\" for=\"f23817c3-169f-4d88-bb4f-50f60d5e1a5c\">PCA</label><div class=\"sk-toggleable__content\"><pre>PCA(n_components=3)</pre></div></div></div><div class=\"sk-item\"><div class=\"sk-estimator sk-toggleable\"><input class=\"sk-toggleable__control sk-hidden--visually\" id=\"b71fc510-1f02-4fe8-8465-077c7d1507f4\" type=\"checkbox\" ><label class=\"sk-toggleable__label\" for=\"b71fc510-1f02-4fe8-8465-077c7d1507f4\">SVC</label><div class=\"sk-toggleable__content\"><pre>SVC()</pre></div></div></div></div></div></div></div>"
      ],
      "text/plain": [
       "Pipeline(steps=[('scaling', StandardScaler()), ('PCA', PCA(n_components=3)),\n",
       "                ('SVC', SVC())])"
      ]
     },
     "execution_count": 18,
     "metadata": {},
     "output_type": "execute_result"
    }
   ],
   "source": [
    "pipe2.fit(X_train,y_train)"
   ]
  },
  {
   "cell_type": "code",
   "execution_count": 19,
   "metadata": {},
   "outputs": [
    {
     "data": {
      "text/plain": [
       "array([1, 0, 1, 0, 1, 1, 1, 1, 1, 1, 0, 0, 1, 1, 1, 0, 0, 1, 0, 1, 0, 1,\n",
       "       1, 1, 0, 1, 1, 1, 0, 0, 1, 0, 0, 1, 1, 0, 1, 1, 0, 1, 1, 0, 0, 0,\n",
       "       0, 1, 1, 1, 0, 0, 0, 0, 1, 1, 0, 1, 1, 1, 1, 1, 0, 0, 0, 1, 0, 1,\n",
       "       0, 1, 1, 0, 1, 0, 1, 0, 0, 0, 0, 1, 0, 0, 0, 1, 0, 1, 0, 1, 1, 1,\n",
       "       1, 0, 1, 0, 0, 1, 1, 1, 1, 1, 1, 0, 1, 1, 0, 0, 1, 0, 1, 1, 0, 0,\n",
       "       0, 1, 1, 1, 1, 1, 0, 1, 0, 0, 0, 0, 1, 1, 1, 1, 1, 1, 0, 0, 1, 1,\n",
       "       0, 1, 0, 1, 1, 1, 1, 1, 0, 1, 1, 0, 1, 0, 1, 1, 1, 1, 1, 1, 1, 1,\n",
       "       1, 1, 0, 0, 1, 0, 1, 1, 1, 0, 1, 1, 1, 1, 0, 1, 1, 1, 0, 1, 0, 1,\n",
       "       0, 0, 1, 0, 0, 1, 1, 1, 1, 0, 0, 1, 0, 1, 1, 1, 0, 0, 0, 1, 0, 1,\n",
       "       1, 1, 0, 1, 0, 0, 1, 0, 1, 0, 0, 1, 0, 0, 1, 1, 0, 0, 0, 1, 1, 1,\n",
       "       1, 1, 1, 0, 1, 1, 1, 1, 1, 1, 0, 0, 0, 1, 1, 1, 1, 0, 1, 0, 0, 1,\n",
       "       1, 0, 1, 1, 1, 1, 0, 1, 1, 1, 0, 1, 1, 0, 1, 1, 1, 0, 1, 0, 1, 1,\n",
       "       1, 1, 0, 0, 1, 1, 0, 1, 1, 0, 1, 0, 1, 1, 0, 1, 1, 0, 1, 1, 1, 1,\n",
       "       1, 0, 1, 1, 0, 0, 1, 1, 1, 1, 1, 1, 0, 0, 0, 0, 1, 1, 0, 1, 0, 1,\n",
       "       0, 0, 0, 1, 0, 0, 0, 1, 1, 0, 1, 1, 0, 1, 1, 0, 0, 0, 0, 1, 1, 0])"
      ]
     },
     "execution_count": 19,
     "metadata": {},
     "output_type": "execute_result"
    }
   ],
   "source": [
    "pipe2.predict(X_test)"
   ]
  },
  {
   "cell_type": "markdown",
   "metadata": {},
   "source": [
    "## Complex examples of columns transformer"
   ]
  },
  {
   "cell_type": "code",
   "execution_count": 20,
   "metadata": {},
   "outputs": [],
   "source": [
    "from sklearn.impute import SimpleImputer"
   ]
  },
  {
   "cell_type": "code",
   "execution_count": 21,
   "metadata": {},
   "outputs": [],
   "source": [
    "## numerical processing pipeline\n",
    "import numpy as np\n",
    "numeric_processor=Pipeline(\n",
    "    steps=[(\"imputation_mean\",SimpleImputer(missing_values=np.nan,strategy=\"mean\")),\n",
    "          (\"scaler\",StandardScaler())]\n",
    "\n",
    ")"
   ]
  },
  {
   "cell_type": "code",
   "execution_count": 23,
   "metadata": {},
   "outputs": [
    {
     "data": {
      "text/html": [
       "<style>#sk-fa3036d8-1658-44a6-a3a6-d48d6efa2d60 {color: black;background-color: white;}#sk-fa3036d8-1658-44a6-a3a6-d48d6efa2d60 pre{padding: 0;}#sk-fa3036d8-1658-44a6-a3a6-d48d6efa2d60 div.sk-toggleable {background-color: white;}#sk-fa3036d8-1658-44a6-a3a6-d48d6efa2d60 label.sk-toggleable__label {cursor: pointer;display: block;width: 100%;margin-bottom: 0;padding: 0.2em 0.3em;box-sizing: border-box;text-align: center;}#sk-fa3036d8-1658-44a6-a3a6-d48d6efa2d60 div.sk-toggleable__content {max-height: 0;max-width: 0;overflow: hidden;text-align: left;background-color: #f0f8ff;}#sk-fa3036d8-1658-44a6-a3a6-d48d6efa2d60 div.sk-toggleable__content pre {margin: 0.2em;color: black;border-radius: 0.25em;background-color: #f0f8ff;}#sk-fa3036d8-1658-44a6-a3a6-d48d6efa2d60 input.sk-toggleable__control:checked~div.sk-toggleable__content {max-height: 200px;max-width: 100%;overflow: auto;}#sk-fa3036d8-1658-44a6-a3a6-d48d6efa2d60 div.sk-estimator input.sk-toggleable__control:checked~label.sk-toggleable__label {background-color: #d4ebff;}#sk-fa3036d8-1658-44a6-a3a6-d48d6efa2d60 div.sk-label input.sk-toggleable__control:checked~label.sk-toggleable__label {background-color: #d4ebff;}#sk-fa3036d8-1658-44a6-a3a6-d48d6efa2d60 input.sk-hidden--visually {border: 0;clip: rect(1px 1px 1px 1px);clip: rect(1px, 1px, 1px, 1px);height: 1px;margin: -1px;overflow: hidden;padding: 0;position: absolute;width: 1px;}#sk-fa3036d8-1658-44a6-a3a6-d48d6efa2d60 div.sk-estimator {font-family: monospace;background-color: #f0f8ff;margin: 0.25em 0.25em;border: 1px dotted black;border-radius: 0.25em;box-sizing: border-box;}#sk-fa3036d8-1658-44a6-a3a6-d48d6efa2d60 div.sk-estimator:hover {background-color: #d4ebff;}#sk-fa3036d8-1658-44a6-a3a6-d48d6efa2d60 div.sk-parallel-item::after {content: \"\";width: 100%;border-bottom: 1px solid gray;flex-grow: 1;}#sk-fa3036d8-1658-44a6-a3a6-d48d6efa2d60 div.sk-label:hover label.sk-toggleable__label {background-color: #d4ebff;}#sk-fa3036d8-1658-44a6-a3a6-d48d6efa2d60 div.sk-serial::before {content: \"\";position: absolute;border-left: 1px solid gray;box-sizing: border-box;top: 2em;bottom: 0;left: 50%;}#sk-fa3036d8-1658-44a6-a3a6-d48d6efa2d60 div.sk-serial {display: flex;flex-direction: column;align-items: center;background-color: white;}#sk-fa3036d8-1658-44a6-a3a6-d48d6efa2d60 div.sk-item {z-index: 1;}#sk-fa3036d8-1658-44a6-a3a6-d48d6efa2d60 div.sk-parallel {display: flex;align-items: stretch;justify-content: center;background-color: white;}#sk-fa3036d8-1658-44a6-a3a6-d48d6efa2d60 div.sk-parallel-item {display: flex;flex-direction: column;position: relative;background-color: white;}#sk-fa3036d8-1658-44a6-a3a6-d48d6efa2d60 div.sk-parallel-item:first-child::after {align-self: flex-end;width: 50%;}#sk-fa3036d8-1658-44a6-a3a6-d48d6efa2d60 div.sk-parallel-item:last-child::after {align-self: flex-start;width: 50%;}#sk-fa3036d8-1658-44a6-a3a6-d48d6efa2d60 div.sk-parallel-item:only-child::after {width: 0;}#sk-fa3036d8-1658-44a6-a3a6-d48d6efa2d60 div.sk-dashed-wrapped {border: 1px dashed gray;margin: 0.2em;box-sizing: border-box;padding-bottom: 0.1em;background-color: white;position: relative;}#sk-fa3036d8-1658-44a6-a3a6-d48d6efa2d60 div.sk-label label {font-family: monospace;font-weight: bold;background-color: white;display: inline-block;line-height: 1.2em;}#sk-fa3036d8-1658-44a6-a3a6-d48d6efa2d60 div.sk-label-container {position: relative;z-index: 2;text-align: center;}#sk-fa3036d8-1658-44a6-a3a6-d48d6efa2d60 div.sk-container {display: inline-block;position: relative;}</style><div id=\"sk-fa3036d8-1658-44a6-a3a6-d48d6efa2d60\" class\"sk-top-container\"><div class=\"sk-container\"><div class=\"sk-item sk-dashed-wrapped\"><div class=\"sk-label-container\"><div class=\"sk-label sk-toggleable\"><input class=\"sk-toggleable__control sk-hidden--visually\" id=\"97438b3d-6b59-498d-8c74-1184a8570e49\" type=\"checkbox\" ><label class=\"sk-toggleable__label\" for=\"97438b3d-6b59-498d-8c74-1184a8570e49\">Pipeline</label><div class=\"sk-toggleable__content\"><pre>Pipeline(steps=[('imputation_mean', SimpleImputer()),\n",
       "                ('scaler', StandardScaler())])</pre></div></div></div><div class=\"sk-serial\"><div class=\"sk-item\"><div class=\"sk-estimator sk-toggleable\"><input class=\"sk-toggleable__control sk-hidden--visually\" id=\"60e4d9d4-ef62-4379-a508-c41aa9d28fff\" type=\"checkbox\" ><label class=\"sk-toggleable__label\" for=\"60e4d9d4-ef62-4379-a508-c41aa9d28fff\">SimpleImputer</label><div class=\"sk-toggleable__content\"><pre>SimpleImputer()</pre></div></div></div><div class=\"sk-item\"><div class=\"sk-estimator sk-toggleable\"><input class=\"sk-toggleable__control sk-hidden--visually\" id=\"bbe45323-414f-4956-8ee3-f2bc5243b03d\" type=\"checkbox\" ><label class=\"sk-toggleable__label\" for=\"bbe45323-414f-4956-8ee3-f2bc5243b03d\">StandardScaler</label><div class=\"sk-toggleable__content\"><pre>StandardScaler()</pre></div></div></div></div></div></div></div>"
      ],
      "text/plain": [
       "Pipeline(steps=[('imputation_mean', SimpleImputer()),\n",
       "                ('scaler', StandardScaler())])"
      ]
     },
     "execution_count": 23,
     "metadata": {},
     "output_type": "execute_result"
    }
   ],
   "source": [
    "numeric_processor"
   ]
  },
  {
   "cell_type": "code",
   "execution_count": 24,
   "metadata": {},
   "outputs": [],
   "source": [
    "##categorical procesing pipeline"
   ]
  },
  {
   "cell_type": "code",
   "execution_count": 25,
   "metadata": {},
   "outputs": [],
   "source": [
    "from sklearn.preprocessing import OneHotEncoder\n",
    "categorical_processor=Pipeline(\n",
    "    steps=[(\"imputation_constant\",SimpleImputer(fill_value=\"missing\",strategy=\"constant\")),\n",
    "          (\"onehot\",OneHotEncoder(handle_unknown=\"ignore\"))]\n",
    "\n",
    ")"
   ]
  },
  {
   "cell_type": "code",
   "execution_count": 26,
   "metadata": {},
   "outputs": [
    {
     "data": {
      "text/html": [
       "<style>#sk-fab42061-336b-421b-9e47-8a9af0c8faf2 {color: black;background-color: white;}#sk-fab42061-336b-421b-9e47-8a9af0c8faf2 pre{padding: 0;}#sk-fab42061-336b-421b-9e47-8a9af0c8faf2 div.sk-toggleable {background-color: white;}#sk-fab42061-336b-421b-9e47-8a9af0c8faf2 label.sk-toggleable__label {cursor: pointer;display: block;width: 100%;margin-bottom: 0;padding: 0.2em 0.3em;box-sizing: border-box;text-align: center;}#sk-fab42061-336b-421b-9e47-8a9af0c8faf2 div.sk-toggleable__content {max-height: 0;max-width: 0;overflow: hidden;text-align: left;background-color: #f0f8ff;}#sk-fab42061-336b-421b-9e47-8a9af0c8faf2 div.sk-toggleable__content pre {margin: 0.2em;color: black;border-radius: 0.25em;background-color: #f0f8ff;}#sk-fab42061-336b-421b-9e47-8a9af0c8faf2 input.sk-toggleable__control:checked~div.sk-toggleable__content {max-height: 200px;max-width: 100%;overflow: auto;}#sk-fab42061-336b-421b-9e47-8a9af0c8faf2 div.sk-estimator input.sk-toggleable__control:checked~label.sk-toggleable__label {background-color: #d4ebff;}#sk-fab42061-336b-421b-9e47-8a9af0c8faf2 div.sk-label input.sk-toggleable__control:checked~label.sk-toggleable__label {background-color: #d4ebff;}#sk-fab42061-336b-421b-9e47-8a9af0c8faf2 input.sk-hidden--visually {border: 0;clip: rect(1px 1px 1px 1px);clip: rect(1px, 1px, 1px, 1px);height: 1px;margin: -1px;overflow: hidden;padding: 0;position: absolute;width: 1px;}#sk-fab42061-336b-421b-9e47-8a9af0c8faf2 div.sk-estimator {font-family: monospace;background-color: #f0f8ff;margin: 0.25em 0.25em;border: 1px dotted black;border-radius: 0.25em;box-sizing: border-box;}#sk-fab42061-336b-421b-9e47-8a9af0c8faf2 div.sk-estimator:hover {background-color: #d4ebff;}#sk-fab42061-336b-421b-9e47-8a9af0c8faf2 div.sk-parallel-item::after {content: \"\";width: 100%;border-bottom: 1px solid gray;flex-grow: 1;}#sk-fab42061-336b-421b-9e47-8a9af0c8faf2 div.sk-label:hover label.sk-toggleable__label {background-color: #d4ebff;}#sk-fab42061-336b-421b-9e47-8a9af0c8faf2 div.sk-serial::before {content: \"\";position: absolute;border-left: 1px solid gray;box-sizing: border-box;top: 2em;bottom: 0;left: 50%;}#sk-fab42061-336b-421b-9e47-8a9af0c8faf2 div.sk-serial {display: flex;flex-direction: column;align-items: center;background-color: white;}#sk-fab42061-336b-421b-9e47-8a9af0c8faf2 div.sk-item {z-index: 1;}#sk-fab42061-336b-421b-9e47-8a9af0c8faf2 div.sk-parallel {display: flex;align-items: stretch;justify-content: center;background-color: white;}#sk-fab42061-336b-421b-9e47-8a9af0c8faf2 div.sk-parallel-item {display: flex;flex-direction: column;position: relative;background-color: white;}#sk-fab42061-336b-421b-9e47-8a9af0c8faf2 div.sk-parallel-item:first-child::after {align-self: flex-end;width: 50%;}#sk-fab42061-336b-421b-9e47-8a9af0c8faf2 div.sk-parallel-item:last-child::after {align-self: flex-start;width: 50%;}#sk-fab42061-336b-421b-9e47-8a9af0c8faf2 div.sk-parallel-item:only-child::after {width: 0;}#sk-fab42061-336b-421b-9e47-8a9af0c8faf2 div.sk-dashed-wrapped {border: 1px dashed gray;margin: 0.2em;box-sizing: border-box;padding-bottom: 0.1em;background-color: white;position: relative;}#sk-fab42061-336b-421b-9e47-8a9af0c8faf2 div.sk-label label {font-family: monospace;font-weight: bold;background-color: white;display: inline-block;line-height: 1.2em;}#sk-fab42061-336b-421b-9e47-8a9af0c8faf2 div.sk-label-container {position: relative;z-index: 2;text-align: center;}#sk-fab42061-336b-421b-9e47-8a9af0c8faf2 div.sk-container {display: inline-block;position: relative;}</style><div id=\"sk-fab42061-336b-421b-9e47-8a9af0c8faf2\" class\"sk-top-container\"><div class=\"sk-container\"><div class=\"sk-item sk-dashed-wrapped\"><div class=\"sk-label-container\"><div class=\"sk-label sk-toggleable\"><input class=\"sk-toggleable__control sk-hidden--visually\" id=\"aabe2bf4-b156-4d26-be87-4347fe1f634b\" type=\"checkbox\" ><label class=\"sk-toggleable__label\" for=\"aabe2bf4-b156-4d26-be87-4347fe1f634b\">Pipeline</label><div class=\"sk-toggleable__content\"><pre>Pipeline(steps=[('imputation_constant',\n",
       "                 SimpleImputer(fill_value='missing', strategy='constant')),\n",
       "                ('onehot', OneHotEncoder(handle_unknown='ignore'))])</pre></div></div></div><div class=\"sk-serial\"><div class=\"sk-item\"><div class=\"sk-estimator sk-toggleable\"><input class=\"sk-toggleable__control sk-hidden--visually\" id=\"f2a88bcb-eab7-43ea-8cb3-a31c7d267ec8\" type=\"checkbox\" ><label class=\"sk-toggleable__label\" for=\"f2a88bcb-eab7-43ea-8cb3-a31c7d267ec8\">SimpleImputer</label><div class=\"sk-toggleable__content\"><pre>SimpleImputer(fill_value='missing', strategy='constant')</pre></div></div></div><div class=\"sk-item\"><div class=\"sk-estimator sk-toggleable\"><input class=\"sk-toggleable__control sk-hidden--visually\" id=\"731de8c8-50b2-42e2-8dce-67be802d2da9\" type=\"checkbox\" ><label class=\"sk-toggleable__label\" for=\"731de8c8-50b2-42e2-8dce-67be802d2da9\">OneHotEncoder</label><div class=\"sk-toggleable__content\"><pre>OneHotEncoder(handle_unknown='ignore')</pre></div></div></div></div></div></div></div>"
      ],
      "text/plain": [
       "Pipeline(steps=[('imputation_constant',\n",
       "                 SimpleImputer(fill_value='missing', strategy='constant')),\n",
       "                ('onehot', OneHotEncoder(handle_unknown='ignore'))])"
      ]
     },
     "execution_count": 26,
     "metadata": {},
     "output_type": "execute_result"
    }
   ],
   "source": [
    "categorical_processor"
   ]
  },
  {
   "cell_type": "code",
   "execution_count": 27,
   "metadata": {},
   "outputs": [],
   "source": [
    "## combine processing technqiues\n",
    "from sklearn.compose import ColumnTransformer"
   ]
  },
  {
   "cell_type": "code",
   "execution_count": 29,
   "metadata": {},
   "outputs": [],
   "source": [
    "preprocessor=ColumnTransformer(\n",
    "    [(\"categorical\",categorical_processor,[\"gender\",\"City\"]),\n",
    "    (\"numerical\",numeric_processor,[\"age\",\"height\"])])"
   ]
  },
  {
   "cell_type": "code",
   "execution_count": 30,
   "metadata": {},
   "outputs": [
    {
     "data": {
      "text/html": [
       "<style>#sk-8aa69f4a-68a6-4f15-a36a-f8a5caa91cfe {color: black;background-color: white;}#sk-8aa69f4a-68a6-4f15-a36a-f8a5caa91cfe pre{padding: 0;}#sk-8aa69f4a-68a6-4f15-a36a-f8a5caa91cfe div.sk-toggleable {background-color: white;}#sk-8aa69f4a-68a6-4f15-a36a-f8a5caa91cfe label.sk-toggleable__label {cursor: pointer;display: block;width: 100%;margin-bottom: 0;padding: 0.2em 0.3em;box-sizing: border-box;text-align: center;}#sk-8aa69f4a-68a6-4f15-a36a-f8a5caa91cfe div.sk-toggleable__content {max-height: 0;max-width: 0;overflow: hidden;text-align: left;background-color: #f0f8ff;}#sk-8aa69f4a-68a6-4f15-a36a-f8a5caa91cfe div.sk-toggleable__content pre {margin: 0.2em;color: black;border-radius: 0.25em;background-color: #f0f8ff;}#sk-8aa69f4a-68a6-4f15-a36a-f8a5caa91cfe input.sk-toggleable__control:checked~div.sk-toggleable__content {max-height: 200px;max-width: 100%;overflow: auto;}#sk-8aa69f4a-68a6-4f15-a36a-f8a5caa91cfe div.sk-estimator input.sk-toggleable__control:checked~label.sk-toggleable__label {background-color: #d4ebff;}#sk-8aa69f4a-68a6-4f15-a36a-f8a5caa91cfe div.sk-label input.sk-toggleable__control:checked~label.sk-toggleable__label {background-color: #d4ebff;}#sk-8aa69f4a-68a6-4f15-a36a-f8a5caa91cfe input.sk-hidden--visually {border: 0;clip: rect(1px 1px 1px 1px);clip: rect(1px, 1px, 1px, 1px);height: 1px;margin: -1px;overflow: hidden;padding: 0;position: absolute;width: 1px;}#sk-8aa69f4a-68a6-4f15-a36a-f8a5caa91cfe div.sk-estimator {font-family: monospace;background-color: #f0f8ff;margin: 0.25em 0.25em;border: 1px dotted black;border-radius: 0.25em;box-sizing: border-box;}#sk-8aa69f4a-68a6-4f15-a36a-f8a5caa91cfe div.sk-estimator:hover {background-color: #d4ebff;}#sk-8aa69f4a-68a6-4f15-a36a-f8a5caa91cfe div.sk-parallel-item::after {content: \"\";width: 100%;border-bottom: 1px solid gray;flex-grow: 1;}#sk-8aa69f4a-68a6-4f15-a36a-f8a5caa91cfe div.sk-label:hover label.sk-toggleable__label {background-color: #d4ebff;}#sk-8aa69f4a-68a6-4f15-a36a-f8a5caa91cfe div.sk-serial::before {content: \"\";position: absolute;border-left: 1px solid gray;box-sizing: border-box;top: 2em;bottom: 0;left: 50%;}#sk-8aa69f4a-68a6-4f15-a36a-f8a5caa91cfe div.sk-serial {display: flex;flex-direction: column;align-items: center;background-color: white;}#sk-8aa69f4a-68a6-4f15-a36a-f8a5caa91cfe div.sk-item {z-index: 1;}#sk-8aa69f4a-68a6-4f15-a36a-f8a5caa91cfe div.sk-parallel {display: flex;align-items: stretch;justify-content: center;background-color: white;}#sk-8aa69f4a-68a6-4f15-a36a-f8a5caa91cfe div.sk-parallel-item {display: flex;flex-direction: column;position: relative;background-color: white;}#sk-8aa69f4a-68a6-4f15-a36a-f8a5caa91cfe div.sk-parallel-item:first-child::after {align-self: flex-end;width: 50%;}#sk-8aa69f4a-68a6-4f15-a36a-f8a5caa91cfe div.sk-parallel-item:last-child::after {align-self: flex-start;width: 50%;}#sk-8aa69f4a-68a6-4f15-a36a-f8a5caa91cfe div.sk-parallel-item:only-child::after {width: 0;}#sk-8aa69f4a-68a6-4f15-a36a-f8a5caa91cfe div.sk-dashed-wrapped {border: 1px dashed gray;margin: 0.2em;box-sizing: border-box;padding-bottom: 0.1em;background-color: white;position: relative;}#sk-8aa69f4a-68a6-4f15-a36a-f8a5caa91cfe div.sk-label label {font-family: monospace;font-weight: bold;background-color: white;display: inline-block;line-height: 1.2em;}#sk-8aa69f4a-68a6-4f15-a36a-f8a5caa91cfe div.sk-label-container {position: relative;z-index: 2;text-align: center;}#sk-8aa69f4a-68a6-4f15-a36a-f8a5caa91cfe div.sk-container {display: inline-block;position: relative;}</style><div id=\"sk-8aa69f4a-68a6-4f15-a36a-f8a5caa91cfe\" class\"sk-top-container\"><div class=\"sk-container\"><div class=\"sk-item sk-dashed-wrapped\"><div class=\"sk-label-container\"><div class=\"sk-label sk-toggleable\"><input class=\"sk-toggleable__control sk-hidden--visually\" id=\"4adac27f-048d-4c36-bdc5-cff97a2c92bf\" type=\"checkbox\" ><label class=\"sk-toggleable__label\" for=\"4adac27f-048d-4c36-bdc5-cff97a2c92bf\">ColumnTransformer</label><div class=\"sk-toggleable__content\"><pre>ColumnTransformer(transformers=[('categorical',\n",
       "                                 Pipeline(steps=[('imputation_constant',\n",
       "                                                  SimpleImputer(fill_value='missing',\n",
       "                                                                strategy='constant')),\n",
       "                                                 ('onehot',\n",
       "                                                  OneHotEncoder(handle_unknown='ignore'))]),\n",
       "                                 ['gender', 'City']),\n",
       "                                ('numerical',\n",
       "                                 Pipeline(steps=[('imputation_mean',\n",
       "                                                  SimpleImputer()),\n",
       "                                                 ('scaler', StandardScaler())]),\n",
       "                                 ['age', 'height'])])</pre></div></div></div><div class=\"sk-parallel\"><div class=\"sk-parallel-item\"><div class=\"sk-item\"><div class=\"sk-label-container\"><div class=\"sk-label sk-toggleable\"><input class=\"sk-toggleable__control sk-hidden--visually\" id=\"be3f0d5d-1ad1-4eed-884c-a371fe2f96be\" type=\"checkbox\" ><label class=\"sk-toggleable__label\" for=\"be3f0d5d-1ad1-4eed-884c-a371fe2f96be\">categorical</label><div class=\"sk-toggleable__content\"><pre>['gender', 'City']</pre></div></div></div><div class=\"sk-serial\"><div class=\"sk-item\"><div class=\"sk-serial\"><div class=\"sk-item\"><div class=\"sk-estimator sk-toggleable\"><input class=\"sk-toggleable__control sk-hidden--visually\" id=\"5502840a-e61b-4eff-80f2-2aa14b072767\" type=\"checkbox\" ><label class=\"sk-toggleable__label\" for=\"5502840a-e61b-4eff-80f2-2aa14b072767\">SimpleImputer</label><div class=\"sk-toggleable__content\"><pre>SimpleImputer(fill_value='missing', strategy='constant')</pre></div></div></div><div class=\"sk-item\"><div class=\"sk-estimator sk-toggleable\"><input class=\"sk-toggleable__control sk-hidden--visually\" id=\"2ff3c84e-6b20-489f-9749-1160af6fb933\" type=\"checkbox\" ><label class=\"sk-toggleable__label\" for=\"2ff3c84e-6b20-489f-9749-1160af6fb933\">OneHotEncoder</label><div class=\"sk-toggleable__content\"><pre>OneHotEncoder(handle_unknown='ignore')</pre></div></div></div></div></div></div></div></div><div class=\"sk-parallel-item\"><div class=\"sk-item\"><div class=\"sk-label-container\"><div class=\"sk-label sk-toggleable\"><input class=\"sk-toggleable__control sk-hidden--visually\" id=\"8bdfe3e7-ae25-4113-87a0-7c220b737429\" type=\"checkbox\" ><label class=\"sk-toggleable__label\" for=\"8bdfe3e7-ae25-4113-87a0-7c220b737429\">numerical</label><div class=\"sk-toggleable__content\"><pre>['age', 'height']</pre></div></div></div><div class=\"sk-serial\"><div class=\"sk-item\"><div class=\"sk-serial\"><div class=\"sk-item\"><div class=\"sk-estimator sk-toggleable\"><input class=\"sk-toggleable__control sk-hidden--visually\" id=\"6cec9f5e-7dd4-44a3-9b4d-7682accd2eda\" type=\"checkbox\" ><label class=\"sk-toggleable__label\" for=\"6cec9f5e-7dd4-44a3-9b4d-7682accd2eda\">SimpleImputer</label><div class=\"sk-toggleable__content\"><pre>SimpleImputer()</pre></div></div></div><div class=\"sk-item\"><div class=\"sk-estimator sk-toggleable\"><input class=\"sk-toggleable__control sk-hidden--visually\" id=\"574c5ac8-3b7b-4e12-b557-744f442e5a80\" type=\"checkbox\" ><label class=\"sk-toggleable__label\" for=\"574c5ac8-3b7b-4e12-b557-744f442e5a80\">StandardScaler</label><div class=\"sk-toggleable__content\"><pre>StandardScaler()</pre></div></div></div></div></div></div></div></div></div></div></div></div>"
      ],
      "text/plain": [
       "ColumnTransformer(transformers=[('categorical',\n",
       "                                 Pipeline(steps=[('imputation_constant',\n",
       "                                                  SimpleImputer(fill_value='missing',\n",
       "                                                                strategy='constant')),\n",
       "                                                 ('onehot',\n",
       "                                                  OneHotEncoder(handle_unknown='ignore'))]),\n",
       "                                 ['gender', 'City']),\n",
       "                                ('numerical',\n",
       "                                 Pipeline(steps=[('imputation_mean',\n",
       "                                                  SimpleImputer()),\n",
       "                                                 ('scaler', StandardScaler())]),\n",
       "                                 ['age', 'height'])])"
      ]
     },
     "execution_count": 30,
     "metadata": {},
     "output_type": "execute_result"
    }
   ],
   "source": [
    "preprocessor"
   ]
  },
  {
   "cell_type": "code",
   "execution_count": 31,
   "metadata": {},
   "outputs": [],
   "source": [
    "from sklearn.pipeline import make_pipeline"
   ]
  },
  {
   "cell_type": "code",
   "execution_count": 32,
   "metadata": {},
   "outputs": [],
   "source": [
    "pipe=make_pipeline(preprocessor,LogisticRegression())"
   ]
  },
  {
   "cell_type": "code",
   "execution_count": 33,
   "metadata": {},
   "outputs": [
    {
     "data": {
      "text/html": [
       "<style>#sk-148cad0c-a77c-462b-b15b-d34ddca95cfc {color: black;background-color: white;}#sk-148cad0c-a77c-462b-b15b-d34ddca95cfc pre{padding: 0;}#sk-148cad0c-a77c-462b-b15b-d34ddca95cfc div.sk-toggleable {background-color: white;}#sk-148cad0c-a77c-462b-b15b-d34ddca95cfc label.sk-toggleable__label {cursor: pointer;display: block;width: 100%;margin-bottom: 0;padding: 0.2em 0.3em;box-sizing: border-box;text-align: center;}#sk-148cad0c-a77c-462b-b15b-d34ddca95cfc div.sk-toggleable__content {max-height: 0;max-width: 0;overflow: hidden;text-align: left;background-color: #f0f8ff;}#sk-148cad0c-a77c-462b-b15b-d34ddca95cfc div.sk-toggleable__content pre {margin: 0.2em;color: black;border-radius: 0.25em;background-color: #f0f8ff;}#sk-148cad0c-a77c-462b-b15b-d34ddca95cfc input.sk-toggleable__control:checked~div.sk-toggleable__content {max-height: 200px;max-width: 100%;overflow: auto;}#sk-148cad0c-a77c-462b-b15b-d34ddca95cfc div.sk-estimator input.sk-toggleable__control:checked~label.sk-toggleable__label {background-color: #d4ebff;}#sk-148cad0c-a77c-462b-b15b-d34ddca95cfc div.sk-label input.sk-toggleable__control:checked~label.sk-toggleable__label {background-color: #d4ebff;}#sk-148cad0c-a77c-462b-b15b-d34ddca95cfc input.sk-hidden--visually {border: 0;clip: rect(1px 1px 1px 1px);clip: rect(1px, 1px, 1px, 1px);height: 1px;margin: -1px;overflow: hidden;padding: 0;position: absolute;width: 1px;}#sk-148cad0c-a77c-462b-b15b-d34ddca95cfc div.sk-estimator {font-family: monospace;background-color: #f0f8ff;margin: 0.25em 0.25em;border: 1px dotted black;border-radius: 0.25em;box-sizing: border-box;}#sk-148cad0c-a77c-462b-b15b-d34ddca95cfc div.sk-estimator:hover {background-color: #d4ebff;}#sk-148cad0c-a77c-462b-b15b-d34ddca95cfc div.sk-parallel-item::after {content: \"\";width: 100%;border-bottom: 1px solid gray;flex-grow: 1;}#sk-148cad0c-a77c-462b-b15b-d34ddca95cfc div.sk-label:hover label.sk-toggleable__label {background-color: #d4ebff;}#sk-148cad0c-a77c-462b-b15b-d34ddca95cfc div.sk-serial::before {content: \"\";position: absolute;border-left: 1px solid gray;box-sizing: border-box;top: 2em;bottom: 0;left: 50%;}#sk-148cad0c-a77c-462b-b15b-d34ddca95cfc div.sk-serial {display: flex;flex-direction: column;align-items: center;background-color: white;}#sk-148cad0c-a77c-462b-b15b-d34ddca95cfc div.sk-item {z-index: 1;}#sk-148cad0c-a77c-462b-b15b-d34ddca95cfc div.sk-parallel {display: flex;align-items: stretch;justify-content: center;background-color: white;}#sk-148cad0c-a77c-462b-b15b-d34ddca95cfc div.sk-parallel-item {display: flex;flex-direction: column;position: relative;background-color: white;}#sk-148cad0c-a77c-462b-b15b-d34ddca95cfc div.sk-parallel-item:first-child::after {align-self: flex-end;width: 50%;}#sk-148cad0c-a77c-462b-b15b-d34ddca95cfc div.sk-parallel-item:last-child::after {align-self: flex-start;width: 50%;}#sk-148cad0c-a77c-462b-b15b-d34ddca95cfc div.sk-parallel-item:only-child::after {width: 0;}#sk-148cad0c-a77c-462b-b15b-d34ddca95cfc div.sk-dashed-wrapped {border: 1px dashed gray;margin: 0.2em;box-sizing: border-box;padding-bottom: 0.1em;background-color: white;position: relative;}#sk-148cad0c-a77c-462b-b15b-d34ddca95cfc div.sk-label label {font-family: monospace;font-weight: bold;background-color: white;display: inline-block;line-height: 1.2em;}#sk-148cad0c-a77c-462b-b15b-d34ddca95cfc div.sk-label-container {position: relative;z-index: 2;text-align: center;}#sk-148cad0c-a77c-462b-b15b-d34ddca95cfc div.sk-container {display: inline-block;position: relative;}</style><div id=\"sk-148cad0c-a77c-462b-b15b-d34ddca95cfc\" class\"sk-top-container\"><div class=\"sk-container\"><div class=\"sk-item sk-dashed-wrapped\"><div class=\"sk-label-container\"><div class=\"sk-label sk-toggleable\"><input class=\"sk-toggleable__control sk-hidden--visually\" id=\"8220d189-818e-4261-bdd9-3b03d67af020\" type=\"checkbox\" ><label class=\"sk-toggleable__label\" for=\"8220d189-818e-4261-bdd9-3b03d67af020\">Pipeline</label><div class=\"sk-toggleable__content\"><pre>Pipeline(steps=[('columntransformer',\n",
       "                 ColumnTransformer(transformers=[('categorical',\n",
       "                                                  Pipeline(steps=[('imputation_constant',\n",
       "                                                                   SimpleImputer(fill_value='missing',\n",
       "                                                                                 strategy='constant')),\n",
       "                                                                  ('onehot',\n",
       "                                                                   OneHotEncoder(handle_unknown='ignore'))]),\n",
       "                                                  ['gender', 'City']),\n",
       "                                                 ('numerical',\n",
       "                                                  Pipeline(steps=[('imputation_mean',\n",
       "                                                                   SimpleImputer()),\n",
       "                                                                  ('scaler',\n",
       "                                                                   StandardScaler())]),\n",
       "                                                  ['age', 'height'])])),\n",
       "                ('logisticregression', LogisticRegression())])</pre></div></div></div><div class=\"sk-serial\"><div class=\"sk-item sk-dashed-wrapped\"><div class=\"sk-label-container\"><div class=\"sk-label sk-toggleable\"><input class=\"sk-toggleable__control sk-hidden--visually\" id=\"272a57f3-d55e-421c-a1bf-8f188f7cd724\" type=\"checkbox\" ><label class=\"sk-toggleable__label\" for=\"272a57f3-d55e-421c-a1bf-8f188f7cd724\">columntransformer: ColumnTransformer</label><div class=\"sk-toggleable__content\"><pre>ColumnTransformer(transformers=[('categorical',\n",
       "                                 Pipeline(steps=[('imputation_constant',\n",
       "                                                  SimpleImputer(fill_value='missing',\n",
       "                                                                strategy='constant')),\n",
       "                                                 ('onehot',\n",
       "                                                  OneHotEncoder(handle_unknown='ignore'))]),\n",
       "                                 ['gender', 'City']),\n",
       "                                ('numerical',\n",
       "                                 Pipeline(steps=[('imputation_mean',\n",
       "                                                  SimpleImputer()),\n",
       "                                                 ('scaler', StandardScaler())]),\n",
       "                                 ['age', 'height'])])</pre></div></div></div><div class=\"sk-parallel\"><div class=\"sk-parallel-item\"><div class=\"sk-item\"><div class=\"sk-label-container\"><div class=\"sk-label sk-toggleable\"><input class=\"sk-toggleable__control sk-hidden--visually\" id=\"97c4f825-0459-41ed-aef0-ddadb7c7bb1a\" type=\"checkbox\" ><label class=\"sk-toggleable__label\" for=\"97c4f825-0459-41ed-aef0-ddadb7c7bb1a\">categorical</label><div class=\"sk-toggleable__content\"><pre>['gender', 'City']</pre></div></div></div><div class=\"sk-serial\"><div class=\"sk-item\"><div class=\"sk-serial\"><div class=\"sk-item\"><div class=\"sk-estimator sk-toggleable\"><input class=\"sk-toggleable__control sk-hidden--visually\" id=\"24924c75-9ccc-484b-bd53-f2fba1b5a10f\" type=\"checkbox\" ><label class=\"sk-toggleable__label\" for=\"24924c75-9ccc-484b-bd53-f2fba1b5a10f\">SimpleImputer</label><div class=\"sk-toggleable__content\"><pre>SimpleImputer(fill_value='missing', strategy='constant')</pre></div></div></div><div class=\"sk-item\"><div class=\"sk-estimator sk-toggleable\"><input class=\"sk-toggleable__control sk-hidden--visually\" id=\"f9671539-cb1f-4ccf-b462-7c8d7065affc\" type=\"checkbox\" ><label class=\"sk-toggleable__label\" for=\"f9671539-cb1f-4ccf-b462-7c8d7065affc\">OneHotEncoder</label><div class=\"sk-toggleable__content\"><pre>OneHotEncoder(handle_unknown='ignore')</pre></div></div></div></div></div></div></div></div><div class=\"sk-parallel-item\"><div class=\"sk-item\"><div class=\"sk-label-container\"><div class=\"sk-label sk-toggleable\"><input class=\"sk-toggleable__control sk-hidden--visually\" id=\"878329b3-5610-44a0-9348-b6d5e090c34f\" type=\"checkbox\" ><label class=\"sk-toggleable__label\" for=\"878329b3-5610-44a0-9348-b6d5e090c34f\">numerical</label><div class=\"sk-toggleable__content\"><pre>['age', 'height']</pre></div></div></div><div class=\"sk-serial\"><div class=\"sk-item\"><div class=\"sk-serial\"><div class=\"sk-item\"><div class=\"sk-estimator sk-toggleable\"><input class=\"sk-toggleable__control sk-hidden--visually\" id=\"1ee63bab-f9e7-4b36-b4c7-6b275cd61cd7\" type=\"checkbox\" ><label class=\"sk-toggleable__label\" for=\"1ee63bab-f9e7-4b36-b4c7-6b275cd61cd7\">SimpleImputer</label><div class=\"sk-toggleable__content\"><pre>SimpleImputer()</pre></div></div></div><div class=\"sk-item\"><div class=\"sk-estimator sk-toggleable\"><input class=\"sk-toggleable__control sk-hidden--visually\" id=\"7160ac21-9ba4-4661-b049-c18dae5db7d1\" type=\"checkbox\" ><label class=\"sk-toggleable__label\" for=\"7160ac21-9ba4-4661-b049-c18dae5db7d1\">StandardScaler</label><div class=\"sk-toggleable__content\"><pre>StandardScaler()</pre></div></div></div></div></div></div></div></div></div></div><div class=\"sk-item\"><div class=\"sk-estimator sk-toggleable\"><input class=\"sk-toggleable__control sk-hidden--visually\" id=\"982b7e3c-98cb-42e0-a3f8-cc37fcf6c028\" type=\"checkbox\" ><label class=\"sk-toggleable__label\" for=\"982b7e3c-98cb-42e0-a3f8-cc37fcf6c028\">LogisticRegression</label><div class=\"sk-toggleable__content\"><pre>LogisticRegression()</pre></div></div></div></div></div></div></div>"
      ],
      "text/plain": [
       "Pipeline(steps=[('columntransformer',\n",
       "                 ColumnTransformer(transformers=[('categorical',\n",
       "                                                  Pipeline(steps=[('imputation_constant',\n",
       "                                                                   SimpleImputer(fill_value='missing',\n",
       "                                                                                 strategy='constant')),\n",
       "                                                                  ('onehot',\n",
       "                                                                   OneHotEncoder(handle_unknown='ignore'))]),\n",
       "                                                  ['gender', 'City']),\n",
       "                                                 ('numerical',\n",
       "                                                  Pipeline(steps=[('imputation_mean',\n",
       "                                                                   SimpleImputer()),\n",
       "                                                                  ('scaler',\n",
       "                                                                   StandardScaler())]),\n",
       "                                                  ['age', 'height'])])),\n",
       "                ('logisticregression', LogisticRegression())])"
      ]
     },
     "execution_count": 33,
     "metadata": {},
     "output_type": "execute_result"
    }
   ],
   "source": [
    "pipe"
   ]
  }
 ],
 "metadata": {
  "kernelspec": {
   "display_name": "Python 3 (ipykernel)",
   "language": "python",
   "name": "python3"
  },
  "language_info": {
   "codemirror_mode": {
    "name": "ipython",
    "version": 3
   },
   "file_extension": ".py",
   "mimetype": "text/x-python",
   "name": "python",
   "nbconvert_exporter": "python",
   "pygments_lexer": "ipython3",
   "version": "3.9.7"
  }
 },
 "nbformat": 4,
 "nbformat_minor": 4
}
